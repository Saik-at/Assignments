{
 "cells": [
  {
   "cell_type": "markdown",
   "id": "96e482b2",
   "metadata": {},
   "source": [
    "## Ans. 1"
   ]
  },
  {
   "cell_type": "code",
   "execution_count": 2,
   "id": "4980a065",
   "metadata": {},
   "outputs": [
    {
     "name": "stdout",
     "output_type": "stream",
     "text": [
      "Enter number whose factorial we want:3\n",
      "The factorial of  3  is  6\n"
     ]
    }
   ],
   "source": [
    "n=int(input(\"Enter number whose factorial we want:\"))\n",
    "p=1\n",
    "for i in range(n):\n",
    "    p=p*(i+1)\n",
    "print(\"The factorial of \",n,\" is \",p)"
   ]
  },
  {
   "cell_type": "markdown",
   "id": "6b24b422",
   "metadata": {},
   "source": [
    "## Ans. 2"
   ]
  },
  {
   "cell_type": "code",
   "execution_count": 5,
   "id": "989931e1",
   "metadata": {},
   "outputs": [
    {
     "name": "stdout",
     "output_type": "stream",
     "text": [
      "Enter number whose multiplication table we want:3\n",
      "Enter limit of multiplication table that we want:3\n",
      "The required multiplication table is:\n",
      "3 * 1 = 3\n",
      "3 * 2 = 6\n",
      "3 * 3 = 9\n"
     ]
    }
   ],
   "source": [
    "a=int(input(\"Enter number whose multiplication table we want:\"))\n",
    "b=int(input(\"Enter limit of multiplication table that we want:\"))\n",
    "print(\"The required multiplication table is:\")\n",
    "for i in range(b):\n",
    "    print(a,\"*\",(i+1),\"=\",a*(i+1))"
   ]
  },
  {
   "cell_type": "markdown",
   "id": "9ee6b000",
   "metadata": {},
   "source": [
    "## Ans. 3"
   ]
  },
  {
   "cell_type": "code",
   "execution_count": 13,
   "id": "2d2214f7",
   "metadata": {},
   "outputs": [
    {
     "name": "stdout",
     "output_type": "stream",
     "text": [
      "Enter how many terms we want of the fibonacci series:3\n",
      "Fibonacci sequence:\n",
      "0\n",
      "1\n",
      "1\n"
     ]
    }
   ],
   "source": [
    "n=int(input(\"Enter how many terms we want of the fibonacci series:\"))\n",
    "n1,n2=0,1\n",
    "c=0\n",
    "if(n<=0):\n",
    "   print(\"Please enter a positive integer\")\n",
    "elif(n==1):\n",
    "   print(\"Fibonacci sequence:\")\n",
    "   print(n1)\n",
    "else:\n",
    "   print(\"Fibonacci sequence:\")\n",
    "   while (c<n):\n",
    "       print(n1)\n",
    "       nth=n1+n2\n",
    "       n1=n2\n",
    "       n2=nth\n",
    "       c=c+1"
   ]
  },
  {
   "cell_type": "markdown",
   "id": "6b2813cc",
   "metadata": {},
   "source": [
    "## Ans. 4"
   ]
  },
  {
   "cell_type": "code",
   "execution_count": 16,
   "id": "c2e1a85f",
   "metadata": {},
   "outputs": [
    {
     "name": "stdout",
     "output_type": "stream",
     "text": [
      "Enter number that we have to check for Armstrong:153\n",
      "153  is an Armstrong number.\n"
     ]
    }
   ],
   "source": [
    "import math\n",
    "n=int(input(\"Enter number that we have to check for Armstrong:\"))\n",
    "copy=n\n",
    "l=len(str(copy))\n",
    "s=0\n",
    "while(copy>0):\n",
    "    r=copy%10\n",
    "    copy=copy//10\n",
    "    s=s+math.pow(r,l)\n",
    "if(s==n):\n",
    "    print(n,\" is an Armstrong number.\")\n",
    "else:\n",
    "    print(n,\" is not an Armstrong number.\")"
   ]
  },
  {
   "cell_type": "markdown",
   "id": "6abda4f3",
   "metadata": {},
   "source": [
    "## Ans. 5"
   ]
  },
  {
   "cell_type": "code",
   "execution_count": 20,
   "id": "0006b620",
   "metadata": {},
   "outputs": [
    {
     "name": "stdout",
     "output_type": "stream",
     "text": [
      "Enter lower limit till which we have to check for Armstrong numbers:1\n",
      "Enter upper limit till which we have to check for Armstrong numbers:1000\n",
      "1  is an Armstrong number.\n",
      "2  is an Armstrong number.\n",
      "3  is an Armstrong number.\n",
      "4  is an Armstrong number.\n",
      "5  is an Armstrong number.\n",
      "6  is an Armstrong number.\n",
      "7  is an Armstrong number.\n",
      "8  is an Armstrong number.\n",
      "9  is an Armstrong number.\n",
      "153  is an Armstrong number.\n",
      "370  is an Armstrong number.\n",
      "371  is an Armstrong number.\n",
      "407  is an Armstrong number.\n"
     ]
    }
   ],
   "source": [
    "def is_armstrong(n):\n",
    "    copy=n\n",
    "    l=len(str(copy))\n",
    "    s=0\n",
    "    while(copy>0):\n",
    "        r=copy%10\n",
    "        copy=copy//10\n",
    "        s=s+math.pow(r,l) \n",
    "    if(s==n):\n",
    "        print(n,\" is an Armstrong number.\")\n",
    "a=int(input(\"Enter lower limit till which we have to check for Armstrong numbers:\"))\n",
    "b=int(input(\"Enter upper limit till which we have to check for Armstrong numbers:\"))\n",
    "for i in range(a,b+1):\n",
    "    is_armstrong(i)"
   ]
  },
  {
   "cell_type": "markdown",
   "id": "bf59b460",
   "metadata": {},
   "source": [
    "## Ans. 6"
   ]
  },
  {
   "cell_type": "code",
   "execution_count": 19,
   "id": "22c43e5a",
   "metadata": {},
   "outputs": [
    {
     "name": "stdout",
     "output_type": "stream",
     "text": [
      "Enter limit till which we need to calculate sum:5\n",
      "Required sum of natural numbers is:  15\n"
     ]
    }
   ],
   "source": [
    "n=int(input(\"Enter limit till which we need to calculate sum:\"))\n",
    "s=0\n",
    "for i in range(1,n+1):\n",
    "    s=s+i\n",
    "print(\"Required sum of natural numbers is: \",s)"
   ]
  }
 ],
 "metadata": {
  "kernelspec": {
   "display_name": "Python 3",
   "language": "python",
   "name": "python3"
  },
  "language_info": {
   "codemirror_mode": {
    "name": "ipython",
    "version": 3
   },
   "file_extension": ".py",
   "mimetype": "text/x-python",
   "name": "python",
   "nbconvert_exporter": "python",
   "pygments_lexer": "ipython3",
   "version": "3.8.8"
  }
 },
 "nbformat": 4,
 "nbformat_minor": 5
}
