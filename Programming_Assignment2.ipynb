{
 "cells": [
  {
   "cell_type": "code",
   "execution_count": 1,
   "id": "199b2c96",
   "metadata": {},
   "outputs": [
    {
     "name": "stdout",
     "output_type": "stream",
     "text": [
      "Enter distance in kms: 16\n",
      "Distance in miles is:  10.0\n"
     ]
    }
   ],
   "source": [
    "km=float(input(\"Enter distance in kms: \"))\n",
    "print(\"Distance in miles is: \",km/1.6)"
   ]
  },
  {
   "cell_type": "code",
   "execution_count": 3,
   "id": "baf71036",
   "metadata": {},
   "outputs": [
    {
     "name": "stdout",
     "output_type": "stream",
     "text": [
      "Enter temperature in Celsius: 0\n",
      "Temperature in Fahrenheit is:  32.0\n"
     ]
    }
   ],
   "source": [
    "cel=float(input(\"Enter temperature in Celsius: \"))\n",
    "print(\"Temperature in Fahrenheit is: \",(9*cel/5+32))"
   ]
  },
  {
   "cell_type": "code",
   "execution_count": 6,
   "id": "43b6719f",
   "metadata": {},
   "outputs": [
    {
     "name": "stdout",
     "output_type": "stream",
     "text": [
      "                                  2023\n",
      "\n",
      "      January                   February                   March\n",
      "Mo Tu We Th Fr Sa Su      Mo Tu We Th Fr Sa Su      Mo Tu We Th Fr Sa Su\n",
      "                   1             1  2  3  4  5             1  2  3  4  5\n",
      " 2  3  4  5  6  7  8       6  7  8  9 10 11 12       6  7  8  9 10 11 12\n",
      " 9 10 11 12 13 14 15      13 14 15 16 17 18 19      13 14 15 16 17 18 19\n",
      "16 17 18 19 20 21 22      20 21 22 23 24 25 26      20 21 22 23 24 25 26\n",
      "23 24 25 26 27 28 29      27 28                     27 28 29 30 31\n",
      "30 31\n",
      "\n",
      "       April                      May                       June\n",
      "Mo Tu We Th Fr Sa Su      Mo Tu We Th Fr Sa Su      Mo Tu We Th Fr Sa Su\n",
      "                1  2       1  2  3  4  5  6  7                1  2  3  4\n",
      " 3  4  5  6  7  8  9       8  9 10 11 12 13 14       5  6  7  8  9 10 11\n",
      "10 11 12 13 14 15 16      15 16 17 18 19 20 21      12 13 14 15 16 17 18\n",
      "17 18 19 20 21 22 23      22 23 24 25 26 27 28      19 20 21 22 23 24 25\n",
      "24 25 26 27 28 29 30      29 30 31                  26 27 28 29 30\n",
      "\n",
      "        July                     August                  September\n",
      "Mo Tu We Th Fr Sa Su      Mo Tu We Th Fr Sa Su      Mo Tu We Th Fr Sa Su\n",
      "                1  2          1  2  3  4  5  6                   1  2  3\n",
      " 3  4  5  6  7  8  9       7  8  9 10 11 12 13       4  5  6  7  8  9 10\n",
      "10 11 12 13 14 15 16      14 15 16 17 18 19 20      11 12 13 14 15 16 17\n",
      "17 18 19 20 21 22 23      21 22 23 24 25 26 27      18 19 20 21 22 23 24\n",
      "24 25 26 27 28 29 30      28 29 30 31               25 26 27 28 29 30\n",
      "31\n",
      "\n",
      "      October                   November                  December\n",
      "Mo Tu We Th Fr Sa Su      Mo Tu We Th Fr Sa Su      Mo Tu We Th Fr Sa Su\n",
      "                   1             1  2  3  4  5                   1  2  3\n",
      " 2  3  4  5  6  7  8       6  7  8  9 10 11 12       4  5  6  7  8  9 10\n",
      " 9 10 11 12 13 14 15      13 14 15 16 17 18 19      11 12 13 14 15 16 17\n",
      "16 17 18 19 20 21 22      20 21 22 23 24 25 26      18 19 20 21 22 23 24\n",
      "23 24 25 26 27 28 29      27 28 29 30               25 26 27 28 29 30 31\n",
      "30 31\n",
      "\n"
     ]
    }
   ],
   "source": [
    "import calendar\n",
    "print(calendar.calendar(2023))"
   ]
  },
  {
   "cell_type": "code",
   "execution_count": 9,
   "id": "5622f05e",
   "metadata": {},
   "outputs": [
    {
     "name": "stdout",
     "output_type": "stream",
     "text": [
      "Enter the coefficients of the quadratic equation, starting with the coefficient of the highest degree.\n",
      "1\n",
      "2\n",
      "3\n",
      "The roots are complex. The roots are:\n",
      "-1.0 +i 2.8284271247461903\n",
      "-1.0 -i 2.8284271247461903\n"
     ]
    }
   ],
   "source": [
    "import math\n",
    "def quad_eq(a,b,c):\n",
    "    dis=b*b-4*a*c\n",
    "    disc_sqrt=math.sqrt(abs(dis))\n",
    "    if (dis>0):\n",
    "        print(\"The roots of the quadratic equation are real and different. The roots are:\")\n",
    "        print((-b+disc_sqrt)/(2*a))\n",
    "        print((-b-disc_sqrt)/(2*a))\n",
    "\n",
    "    elif (dis==0):\n",
    "        print(\"The roots are real and equal. The root is:\")\n",
    "        print(-b/(2*a))\n",
    "    else:\n",
    "        print(\"The roots are complex. The roots are:\")\n",
    "        print(-b/(2*a),\"+i\",disc_sqrt)\n",
    "        print(-b/(2*a),\"-i\",disc_sqrt)\n",
    "\n",
    "\n",
    "print(\"Enter the coefficients of the quadratic equation, starting with the coefficient of the highest degree.\")\n",
    "a=float(input())\n",
    "b=float(input())\n",
    "c=float(input())\n",
    "if(a==0):\n",
    "    print(\"Given quadratic equation is incorrect.\")\n",
    "else:\n",
    "    quad_eq(a,b,c)"
   ]
  },
  {
   "cell_type": "code",
   "execution_count": 4,
   "id": "27a7d397",
   "metadata": {},
   "outputs": [
    {
     "name": "stdout",
     "output_type": "stream",
     "text": [
      "10\n",
      "9\n"
     ]
    }
   ],
   "source": [
    "a=9\n",
    "b=10\n",
    "a=a+b\n",
    "b=a-b\n",
    "a=a-b\n",
    "print(a)\n",
    "print(b)"
   ]
  }
 ],
 "metadata": {
  "kernelspec": {
   "display_name": "Python 3",
   "language": "python",
   "name": "python3"
  },
  "language_info": {
   "codemirror_mode": {
    "name": "ipython",
    "version": 3
   },
   "file_extension": ".py",
   "mimetype": "text/x-python",
   "name": "python",
   "nbconvert_exporter": "python",
   "pygments_lexer": "ipython3",
   "version": "3.8.8"
  }
 },
 "nbformat": 4,
 "nbformat_minor": 5
}
