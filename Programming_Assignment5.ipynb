{
 "cells": [
  {
   "cell_type": "markdown",
   "id": "279ae664",
   "metadata": {},
   "source": [
    "## Ans. 1"
   ]
  },
  {
   "cell_type": "code",
   "execution_count": 1,
   "id": "9908693e",
   "metadata": {},
   "outputs": [
    {
     "name": "stdout",
     "output_type": "stream",
     "text": [
      "Enter 1st number: 4\n",
      "Enter 2nd number: 6\n",
      "LCM of 4 and 6 is: 12.0\n"
     ]
    }
   ],
   "source": [
    "a=int(input(\"Enter 1st number: \"))\n",
    "b=int(input(\"Enter 2nd number: \"))\n",
    "if(a<b):\n",
    "    small=a\n",
    "else:\n",
    "    small=b\n",
    "for i in range(1,small+1):\n",
    "    if((a%i==0) and (b%i==0)):\n",
    "        hcf=i\n",
    "lcm=(a*b)/hcf\n",
    "print(\"LCM of\",a,\"and\",b,\"is:\",lcm)"
   ]
  },
  {
   "cell_type": "markdown",
   "id": "9999e2f9",
   "metadata": {},
   "source": [
    "## Ans. 2"
   ]
  },
  {
   "cell_type": "code",
   "execution_count": 2,
   "id": "ce9c05d9",
   "metadata": {},
   "outputs": [
    {
     "name": "stdout",
     "output_type": "stream",
     "text": [
      "Enter 1st number: 3\n",
      "Enter 2nd number: 6\n",
      "HCF of 3 and 6 is: 3\n"
     ]
    }
   ],
   "source": [
    "a=int(input(\"Enter 1st number: \"))\n",
    "b=int(input(\"Enter 2nd number: \"))\n",
    "if(a<b):\n",
    "    small=a\n",
    "else:\n",
    "    small=b\n",
    "for i in range(1,small+1):\n",
    "    if((a%i==0) and (b%i==0)):\n",
    "        hcf=i\n",
    "print(\"HCF of\",a,\"and\",b,\"is:\",hcf)"
   ]
  },
  {
   "cell_type": "markdown",
   "id": "6cb394aa",
   "metadata": {},
   "source": [
    "## Ans. 3"
   ]
  },
  {
   "cell_type": "code",
   "execution_count": 3,
   "id": "fe1a8351",
   "metadata": {},
   "outputs": [
    {
     "name": "stdout",
     "output_type": "stream",
     "text": [
      "Enter decimal number: 8\n",
      "Decimal value of 8 is:\n",
      "1000\n",
      "Octal value of 8 is:\n",
      "10\n",
      "Hexadecimal value of 8 is:\n",
      "8"
     ]
    }
   ],
   "source": [
    "de=int(input(\"Enter decimal number: \"))\n",
    "\n",
    "#decimal to binary conversion\n",
    "bin=[]\n",
    "copy=de\n",
    "while(copy!=0):\n",
    "   bin.append(copy%2)\n",
    "   copy=copy//2\n",
    "bin.reverse()\n",
    "print(\"Decimal value of\",de,\"is:\")\n",
    "for i in bin:\n",
    "    print(i,end=\"\")\n",
    "print()   \n",
    "\n",
    "#decimal to octal conversion\n",
    "copy=de\n",
    "oct=[]\n",
    "while(copy!=0):\n",
    "   oct.append(copy%8)\n",
    "   copy=copy//8\n",
    "oct.reverse()\n",
    "print(\"Octal value of\",de,\"is:\")\n",
    "for i in oct:\n",
    "    print(i,end=\"\")\n",
    "print()  \n",
    "\n",
    "#decimal to hexadecimal conversion\n",
    "copy=de\n",
    "hex=[]\n",
    "while(copy!=0):\n",
    "   hex.append(copy%16)\n",
    "   copy=copy//16\n",
    "hex.reverse()\n",
    "print(\"Hexadecimal value of\",de,\"is:\")\n",
    "for i in hex:\n",
    "    print(i,end=\"\")"
   ]
  },
  {
   "cell_type": "markdown",
   "id": "9fe4dbf5",
   "metadata": {},
   "source": [
    "## Ans. 4"
   ]
  },
  {
   "cell_type": "code",
   "execution_count": 5,
   "id": "db835e91",
   "metadata": {},
   "outputs": [
    {
     "name": "stdout",
     "output_type": "stream",
     "text": [
      "Enter character whose ASCII value you want:r\n",
      "ASCII value of character is: 114\n"
     ]
    }
   ],
   "source": [
    "ch=input(\"Enter character whose ASCII value you want:\")\n",
    "print(\"ASCII value of character is:\",ord(ch))"
   ]
  },
  {
   "cell_type": "markdown",
   "id": "3be5d523",
   "metadata": {},
   "source": [
    "## Ans. 5"
   ]
  },
  {
   "cell_type": "code",
   "execution_count": 6,
   "id": "37cc889d",
   "metadata": {},
   "outputs": [
    {
     "name": "stdout",
     "output_type": "stream",
     "text": [
      "Enter 1st number:3\n",
      "Enter 2nd number:4\n",
      "Choose whether you want to add, substract, divide, or multiply.\n",
      "Type 1 to add, 2 to substract, 3 to multiply, 4 to divide.2\n",
      "Substraction of 3 and 4 is -1\n"
     ]
    }
   ],
   "source": [
    "a=int(input(\"Enter 1st number:\"))\n",
    "b=int(input(\"Enter 2nd number:\"))\n",
    "print(\"Choose whether you want to add, substract, divide, or multiply.\")\n",
    "choice=int(input(\"Type 1 to add, 2 to substract, 3 to multiply, 4 to divide.\"))\n",
    "try:\n",
    "    if(choice==1):\n",
    "         print(\"Addition of\",a,\"and\",b,\"is\",(a+b))\n",
    "    elif(choice==2):\n",
    "         print(\"Substraction of\",a,\"and\",b,\"is\",(a-b))\n",
    "    elif(choice==3):\n",
    "        print(\"Multiplication of\",a,\"and\",b,\"is\",(a*b))\n",
    "    else:\n",
    "        print(\"Division of\",a,\"and\",b,\"is\",(a/b))\n",
    "except:\n",
    "    print(\"Divide by 0 error, choose another value in place of b\")"
   ]
  }
 ],
 "metadata": {
  "kernelspec": {
   "display_name": "Python 3",
   "language": "python",
   "name": "python3"
  },
  "language_info": {
   "codemirror_mode": {
    "name": "ipython",
    "version": 3
   },
   "file_extension": ".py",
   "mimetype": "text/x-python",
   "name": "python",
   "nbconvert_exporter": "python",
   "pygments_lexer": "ipython3",
   "version": "3.8.8"
  }
 },
 "nbformat": 4,
 "nbformat_minor": 5
}
