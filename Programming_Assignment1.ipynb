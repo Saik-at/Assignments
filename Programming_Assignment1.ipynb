{
 "cells": [
  {
   "cell_type": "code",
   "execution_count": 2,
   "id": "c6dd3a4f",
   "metadata": {},
   "outputs": [
    {
     "name": "stdout",
     "output_type": "stream",
     "text": [
      "Hello Python\n"
     ]
    }
   ],
   "source": [
    "print(\"Hello Python\")"
   ]
  },
  {
   "cell_type": "code",
   "execution_count": 3,
   "id": "231263df",
   "metadata": {},
   "outputs": [
    {
     "name": "stdout",
     "output_type": "stream",
     "text": [
      "8\n",
      "1.6666666666666667\n"
     ]
    }
   ],
   "source": [
    "a,b=5,3\n",
    "print(a+b)\n",
    "print(a/b)"
   ]
  },
  {
   "cell_type": "code",
   "execution_count": 5,
   "id": "f9eb0692",
   "metadata": {},
   "outputs": [
    {
     "name": "stdout",
     "output_type": "stream",
     "text": [
      "Enter sides of triangle: \n",
      "3\n",
      "4\n",
      "5\n",
      "Area of triangle is:  6.0\n"
     ]
    }
   ],
   "source": [
    "import math\n",
    "print(\"Enter sides of triangle: \")\n",
    "a=float(input())\n",
    "b=float(input())\n",
    "c=float(input())\n",
    "s=(a+b+c)/2.0\n",
    "area=math.sqrt(s*(s-a)*(s-b)*(s-c))\n",
    "print(\"Area of triangle is: \",area)"
   ]
  },
  {
   "cell_type": "code",
   "execution_count": 7,
   "id": "477a2871",
   "metadata": {},
   "outputs": [
    {
     "name": "stdout",
     "output_type": "stream",
     "text": [
      "Enter value of 1st variable: ineuron\n",
      "Enter value of 2nd variable: PhysicsWallah\n",
      "New value of 1st variable is,  PhysicsWallah\n",
      "New value of 2nd variable is,  ineuron\n"
     ]
    }
   ],
   "source": [
    "a=input(\"Enter value of 1st variable: \")\n",
    "b=input(\"Enter value of 2nd variable: \")\n",
    "c=a\n",
    "a=b\n",
    "b=c\n",
    "print(\"New value of 1st variable is, \",a)\n",
    "print(\"New value of 2nd variable is, \",b)"
   ]
  },
  {
   "cell_type": "code",
   "execution_count": 14,
   "id": "1be6d717",
   "metadata": {},
   "outputs": [
    {
     "name": "stdout",
     "output_type": "stream",
     "text": [
      "0.8219540423197268\n"
     ]
    }
   ],
   "source": [
    "from random import random\n",
    "print(random())"
   ]
  }
 ],
 "metadata": {
  "kernelspec": {
   "display_name": "Python 3",
   "language": "python",
   "name": "python3"
  },
  "language_info": {
   "codemirror_mode": {
    "name": "ipython",
    "version": 3
   },
   "file_extension": ".py",
   "mimetype": "text/x-python",
   "name": "python",
   "nbconvert_exporter": "python",
   "pygments_lexer": "ipython3",
   "version": "3.8.8"
  }
 },
 "nbformat": 4,
 "nbformat_minor": 5
}
